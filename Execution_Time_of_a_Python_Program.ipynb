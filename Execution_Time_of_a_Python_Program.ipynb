{
  "nbformat": 4,
  "nbformat_minor": 0,
  "metadata": {
    "colab": {
      "provenance": [],
      "collapsed_sections": [],
      "authorship_tag": "ABX9TyPkuMgGMzNn5DBfJMNLhyfs",
      "include_colab_link": true
    },
    "kernelspec": {
      "name": "python3",
      "display_name": "Python 3"
    },
    "language_info": {
      "name": "python"
    }
  },
  "cells": [
    {
      "cell_type": "markdown",
      "metadata": {
        "id": "view-in-github",
        "colab_type": "text"
      },
      "source": [
        "<a href=\"https://colab.research.google.com/github/Mahesh3146/python-projects/blob/master/Execution_Time_of_a_Python_Program.ipynb\" target=\"_parent\"><img src=\"https://colab.research.google.com/assets/colab-badge.svg\" alt=\"Open In Colab\"/></a>"
      ]
    },
    {
      "cell_type": "code",
      "execution_count": 1,
      "metadata": {
        "colab": {
          "base_uri": "https://localhost:8080/"
        },
        "id": "9m4XCe3nFBnt",
        "outputId": "c9cbf674-4ff9-4ab7-bfe9-e9912c039a99"
      },
      "outputs": [
        {
          "output_type": "stream",
          "name": "stdout",
          "text": [
            "enter a first number : 56\n",
            "enter a second number : 86\n",
            "enter a third number :98\n",
            "275184\n",
            "Execution Time :  12.180124282836914\n"
          ]
        }
      ],
      "source": [
        "from time import time\n",
        "start = time()\n",
        "\n",
        "# python program to perform arthematic operations\n",
        "number1 = int(input(\"enter a first number : \"))\n",
        "number2 = int(input(\"enter a second number : \"))\n",
        "number3 = int(input(\"enter a third number :\"))\n",
        "\n",
        "output = (number2*number1+number3)*number1\n",
        "print(output)\n",
        "\n",
        "end = time()\n",
        "execution_time = end - start\n",
        "print(\"Execution Time : \" , execution_time)"
      ]
    },
    {
      "cell_type": "code",
      "source": [],
      "metadata": {
        "id": "Y0cCIHgKHJYy"
      },
      "execution_count": null,
      "outputs": []
    }
  ]
}