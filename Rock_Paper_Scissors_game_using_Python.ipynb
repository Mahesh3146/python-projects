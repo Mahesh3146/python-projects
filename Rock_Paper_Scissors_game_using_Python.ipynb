{
  "nbformat": 4,
  "nbformat_minor": 0,
  "metadata": {
    "colab": {
      "provenance": [],
      "collapsed_sections": [],
      "authorship_tag": "ABX9TyNHQI3r4WzpkE2mGGnwCYbR",
      "include_colab_link": true
    },
    "kernelspec": {
      "name": "python3",
      "display_name": "Python 3"
    },
    "language_info": {
      "name": "python"
    }
  },
  "cells": [
    {
      "cell_type": "markdown",
      "metadata": {
        "id": "view-in-github",
        "colab_type": "text"
      },
      "source": [
        "<a href=\"https://colab.research.google.com/github/Mahesh3146/python-projects/blob/master/Rock_Paper_Scissors_game_using_Python.ipynb\" target=\"_parent\"><img src=\"https://colab.research.google.com/assets/colab-badge.svg\" alt=\"Open In Colab\"/></a>"
      ]
    },
    {
      "cell_type": "code",
      "execution_count": 2,
      "metadata": {
        "colab": {
          "base_uri": "https://localhost:8080/"
        },
        "id": "8_IpcH_NH_RO",
        "outputId": "b73bb575-bccb-4d69-f86a-71a468013dc3"
      },
      "outputs": [
        {
          "output_type": "stream",
          "name": "stdout",
          "text": [
            "Select one Rock , Paper , or Scissor  :paper\n",
            "Player 1 Won\n"
          ]
        }
      ],
      "source": [
        "import random\n",
        "\n",
        "player1 = input(\"Select one Rock , Paper , or Scissor  :\").lower()\n",
        "\n",
        "player2 = random.choice([\"Rock\" , \"Paper\" , \"Scissor\"]).lower()\n",
        "\n",
        "if player1 == \"rock\"  and player2 == \"paper\":\n",
        "  print(\"Player 2 Won\")\n",
        "elif player1 == \"paper\" and player2 == \"scissor\":\n",
        "  print(\"Player 2 Won\")\n",
        "elif player1 == \"scissor\" and player2 == \"rock\":\n",
        "    print(\"Player 2 Won\")\n",
        "elif player1 == player2:\n",
        "  print(\"Tie\")\n",
        "else:\n",
        "  print(\"Player 1 Won\")\n"
      ]
    },
    {
      "cell_type": "code",
      "source": [],
      "metadata": {
        "id": "c4ZA04n1I5wZ"
      },
      "execution_count": null,
      "outputs": []
    }
  ]
}