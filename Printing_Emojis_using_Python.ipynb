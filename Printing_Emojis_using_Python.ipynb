{
  "nbformat": 4,
  "nbformat_minor": 0,
  "metadata": {
    "colab": {
      "provenance": [],
      "collapsed_sections": [],
      "authorship_tag": "ABX9TyOe9lGOtpuJlwLgpEDoDk9h",
      "include_colab_link": true
    },
    "kernelspec": {
      "name": "python3",
      "display_name": "Python 3"
    },
    "language_info": {
      "name": "python"
    }
  },
  "cells": [
    {
      "cell_type": "markdown",
      "metadata": {
        "id": "view-in-github",
        "colab_type": "text"
      },
      "source": [
        "<a href=\"https://colab.research.google.com/github/Mahesh3146/python-projects/blob/master/Printing_Emojis_using_Python.ipynb\" target=\"_parent\"><img src=\"https://colab.research.google.com/assets/colab-badge.svg\" alt=\"Open In Colab\"/></a>"
      ]
    },
    {
      "cell_type": "code",
      "execution_count": 3,
      "metadata": {
        "colab": {
          "base_uri": "https://localhost:8080/"
        },
        "id": "rhLK69wkLFFF",
        "outputId": "ebae2b04-9875-4963-bf02-1cf24f6f5b1c"
      },
      "outputs": [
        {
          "output_type": "stream",
          "name": "stdout",
          "text": [
            "Looking in indexes: https://pypi.org/simple, https://us-python.pkg.dev/colab-wheels/public/simple/\n",
            "Collecting emoji\n",
            "  Downloading emoji-2.1.0.tar.gz (216 kB)\n",
            "\u001b[K     |████████████████████████████████| 216 kB 12.5 MB/s \n",
            "\u001b[?25hBuilding wheels for collected packages: emoji\n",
            "  Building wheel for emoji (setup.py) ... \u001b[?25l\u001b[?25hdone\n",
            "  Created wheel for emoji: filename=emoji-2.1.0-py3-none-any.whl size=212392 sha256=dbb1edc3a436e3f68c983314b5efc2d1fa17fec6f64050c02fd43872958e145c\n",
            "  Stored in directory: /root/.cache/pip/wheels/77/75/99/51c2a119f4cfd3af7b49cc57e4f737bed7e40b348a85d82804\n",
            "Successfully built emoji\n",
            "Installing collected packages: emoji\n",
            "Successfully installed emoji-2.1.0\n"
          ]
        }
      ],
      "source": [
        "!pip install emoji"
      ]
    },
    {
      "cell_type": "code",
      "source": [
        "import emoji"
      ],
      "metadata": {
        "id": "mLNtlSKwL5qf"
      },
      "execution_count": 4,
      "outputs": []
    },
    {
      "cell_type": "code",
      "source": [
        "print(emoji.emojize(\"I love my India :India:\"))\n",
        "\n",
        "print(emoji.emojize(\"I love reading programming books :books:\"))\n",
        "\n",
        "print(emoji.emojize(\"I :red_heart: my country\"))\n",
        "\n",
        "print(emoji.emojize(\"I am the good boy :boy:\"))\n",
        "\n",
        "print(emoji.emojize(\"Today whether is too cloudy :cloud:\"))\n",
        "\n",
        "print(emoji.emojize(\"I like my desktop computer :desktop_computer:\"))\n",
        "\n",
        "print(emoji.emojize(\"I have lot of crush or love :face_blowing_a_kiss: on my girl\"))\n",
        "\n",
        "print(emoji.emojize(\"I am getting lot of interest in data science :growing_heart:\"))"
      ],
      "metadata": {
        "colab": {
          "base_uri": "https://localhost:8080/"
        },
        "id": "ugevBbdHMEWs",
        "outputId": "2470169c-a7af-47a9-9f8d-fa643d0471da"
      },
      "execution_count": 18,
      "outputs": [
        {
          "output_type": "stream",
          "name": "stdout",
          "text": [
            "I love my India 🇮🇳\n",
            "I love reading programming books 📚\n",
            "I ❤️ my country\n",
            "I am the good boy 👦\n",
            "Today whether is too cloudy ☁️\n",
            "I like my desktop computer 🖥️\n",
            "I have lot of crush or love 😘 on my girl\n",
            "I am getting lot of interest in data science 💗\n"
          ]
        }
      ]
    },
    {
      "cell_type": "code",
      "source": [
        "\n"
      ],
      "metadata": {
        "id": "QMsJP0BCMZcc"
      },
      "execution_count": null,
      "outputs": []
    }
  ]
}